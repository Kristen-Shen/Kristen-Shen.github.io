{
 "cells": [
  {
   "cell_type": "code",
   "execution_count": 1,
   "id": "d44c61c8-8d6f-4d48-8f31-686c15bca154",
   "metadata": {},
   "outputs": [],
   "source": [
    "from playwright.async_api import async_playwright "
   ]
  },
  {
   "cell_type": "code",
   "execution_count": 2,
   "id": "267f5f36-169e-4de2-a8f8-2c5f992d945e",
   "metadata": {},
   "outputs": [],
   "source": [
    "import pandas as pd"
   ]
  },
  {
   "cell_type": "code",
   "execution_count": 3,
   "id": "183ff6f8-29c6-4c75-917f-294791101505",
   "metadata": {},
   "outputs": [],
   "source": [
    "import json"
   ]
  },
  {
   "cell_type": "code",
   "execution_count": 8,
   "id": "9c899f99-ff92-4fee-82f0-bc3c271f49e8",
   "metadata": {},
   "outputs": [],
   "source": [
    "import asyncio\n",
    "import nest_asyncio"
   ]
  },
  {
   "cell_type": "code",
   "execution_count": 21,
   "id": "9e9e23ca-59b3-4946-a025-e18ab5c8b917",
   "metadata": {},
   "outputs": [],
   "source": [
    "from playwright_stealth import stealth"
   ]
  },
  {
   "cell_type": "code",
   "execution_count": 23,
   "id": "85dbb9cf-914a-45ff-978a-6de9ee019d06",
   "metadata": {},
   "outputs": [],
   "source": [
    "import random"
   ]
  },
  {
   "cell_type": "code",
   "execution_count": 11,
   "id": "e852986e-21a3-47d2-993e-9d91dca93f76",
   "metadata": {},
   "outputs": [],
   "source": [
    "playwright = await async_playwright().start()\n",
    "browser = await playwright.chromium.launch(headless=False)\n",
    "page = await browser.new_page()"
   ]
  },
  {
   "cell_type": "code",
   "execution_count": 29,
   "id": "aae9855c-78fa-47a2-93b2-fda9963df549",
   "metadata": {},
   "outputs": [
    {
     "name": "stdout",
     "output_type": "stream",
     "text": [
      "🔎 Navigating to Sephora...\n",
      "📜 Scrolling down to load all products...\n",
      "✅ Found 0 product URLs!\n"
     ]
    }
   ],
   "source": [
    "async def scrape_sephora():\n",
    "    async with async_playwright() as p:\n",
    "        browser = await p.chromium.launch(headless=False)  # Run in headful mode for debugging\n",
    "        context = await browser.new_context()\n",
    "        page = await context.new_page()\n",
    "\n",
    "        print(\"🔎 Navigating to Sephora...\")\n",
    "        await page.goto(\"https://www.sephora.com/shop/foundation-makeup?pageSize=300\", wait_until=\"domcontentloaded\")\n",
    "\n",
    "        # 🟢 Perform Auto-Scroll to Load All Products\n",
    "        print(\"📜 Scrolling down to load all products...\")\n",
    "        await auto_scroll(page)  \n",
    "\n",
    "        # 🟢 Extract Product URLs After Scrolling\n",
    "        product_urls = await page.evaluate('''() => {\n",
    "            return Array.from(document.querySelectorAll(\".css-ix8km1\")).map(item => item.href);\n",
    "        }''')\n",
    "\n",
    "        print(f\"✅ Found {len(product_urls)} product URLs!\")\n",
    "\n",
    "        await browser.close()\n",
    "\n",
    "async def auto_scroll(page):\n",
    "    \"\"\" Scrolls down gradually to load all products \"\"\"\n",
    "    last_height = await page.evaluate(\"document.body.scrollHeight\")\n",
    "    while True:\n",
    "        await page.evaluate(\"window.scrollBy(0, document.body.scrollHeight)\")\n",
    "        await page.wait_for_timeout(random.randint(2000, 4000))  # Random delay to mimic human behavior\n",
    "\n",
    "        new_height = await page.evaluate(\"document.body.scrollHeight\")\n",
    "        if new_height == last_height:\n",
    "            break  # Exit loop if no new content is loaded\n",
    "        last_height = new_height\n",
    "\n",
    "asyncio.run(scrape_sephora())\n"
   ]
  },
  {
   "cell_type": "code",
   "execution_count": 15,
   "id": "5da8905e-6134-4d31-944c-bde3faae7ac7",
   "metadata": {},
   "outputs": [],
   "source": [
    "url = \"https://www.sephora.com/shop/foundation-makeup?pageSize=300\""
   ]
  },
  {
   "cell_type": "code",
   "execution_count": 16,
   "id": "3a710b51-8d42-4ced-997c-60d06c06120a",
   "metadata": {},
   "outputs": [],
   "source": [
    "await page.goto(url)\n",
    "try:\n",
    "    brand = await page.locator(\"h1 a span\").inner_text()\n",
    "except:\n",
    "    brand = \"Unknown\"\n"
   ]
  },
  {
   "cell_type": "code",
   "execution_count": 17,
   "id": "a2291c33-521a-4198-86d2-ea43ee9147c6",
   "metadata": {},
   "outputs": [],
   "source": [
    "try:\n",
    "        product = await page.locator(\".css-1wd4e6l span:nth-child(2)\").inner_text()\n",
    "except:\n",
    "        product = \"Unknown\""
   ]
  },
  {
   "cell_type": "code",
   "execution_count": null,
   "id": "a0e494a6-e21c-4c5f-8e5d-f94f8b1cb241",
   "metadata": {},
   "outputs": [],
   "source": [
    "# Fix the \"RuntimeError: asyncio.run() cannot be called from a running event loop\"\n",
    "nest_asyncio.apply()\n",
    "\n",
    "results = []\n",
    "\n",
    "async def get_color_swatches(url, page):\n",
    "    # Scrapes color swatches and product details from a Sephora product page.\n",
    "    await page.goto(url)\n",
    "\n",
    "    try:\n",
    "        brand = await page.locator(\"h1 a span\").inner_text()\n",
    "    except:\n",
    "        brand = \"Unknown\"\n",
    "\n",
    "    try:\n",
    "        product = await page.locator(\".css-1wd4e6l span:nth-child(2)\").inner_text()\n",
    "    except:\n",
    "        product = \"Unknown\"\n",
    "\n",
    "    swatches = await page.locator(\".css-1j1jwa4, .css-cl742e\").evaluate_all(\n",
    "        lambda elements: [\n",
    "            {\n",
    "                \"description\": el.getAttribute(\"aria-label\"),\n",
    "                \"imgSrc\": el.querySelector(\"img\").getAttribute(\"src\") if el.querySelector(\"img\") else None,\n",
    "                \"imgAlt\": el.querySelector(\"img\").getAttribute(\"alt\") if el.querySelector(\"img\") else None\n",
    "            } for el in elements\n",
    "        ]\n",
    "    )\n",
    "\n",
    "    full = {\"brand\": brand, \"product\": product, \"url\": url, \"swatches\": swatches}\n",
    "    results.append(full)\n",
    "\n",
    "async def loop_through_urls(urls, page):\n",
    "    # Loops through product URLs and scrapes data.\n",
    "    for url in urls:\n",
    "        try:\n",
    "            await get_color_swatches(url, page)\n",
    "            await page.wait_for_timeout(1000)  # Pause briefly to avoid being blocked\n",
    "        except Exception as e:\n",
    "            print(f\"Error scraping {url}: {e}\")\n",
    "\n",
    "    # Save results to JSON\n",
    "    with open(\"sephora.json\", \"w\", encoding=\"utf-8\") as f:\n",
    "        json.dump(results, f, indent=4)\n",
    "    print(\"✅ Scraping complete. Data saved to sephora.json.\")\n",
    "\n",
    "async def find_product_url():\n",
    "# Finds product URLs from Sephora's foundation page and scrapes them.\n",
    "    async with async_playwright() as p:\n",
    "        browser = await p.chromium.launch(headless=True)  # Change to False for debugging\n",
    "        page = await browser.new_page()\n",
    "        await page.goto(\"https://www.sephora.com/shop/foundation-makeup?pageSize=300\")\n",
    "\n",
    "        # Adjust viewport dynamically\n",
    "        body_width = await page.evaluate(\"document.body.scrollWidth\")\n",
    "        body_height = await page.evaluate(\"document.body.scrollHeight\")\n",
    "        await page.set_viewport_size({\"width\": body_width, \"height\": body_height})\n",
    "\n",
    "        # Wait for product items to load\n",
    "        await page.wait_for_function(\"document.querySelectorAll('.css-dkxsdo').length > 10\")\n",
    "\n",
    "        # Extract product URLs\n",
    "        product_urls = await page.locator(\".css-ix8km1\").evaluate_all(\n",
    "            lambda items: [item.href for item in items]\n",
    "        )\n",
    "\n",
    "        print(f\"🔎 Found {len(product_urls)} product URLs. Scraping data now...\")\n",
    "\n",
    "        # Start scraping product pages\n",
    "        await loop_through_urls(product_urls, page)\n",
    "\n",
    "        await browser.close()\n",
    "\n",
    "# ✅ FIX: Instead of asyncio.run(), use an event loop in Jupyter\n",
    "asyncio.get_event_loop().run_until_complete(find_product_url())\n"
   ]
  },
  {
   "cell_type": "code",
   "execution_count": null,
   "id": "e14ed4e7-8cbf-4556-87af-81286998b73a",
   "metadata": {},
   "outputs": [],
   "source": []
  },
  {
   "cell_type": "code",
   "execution_count": null,
   "id": "cc34a4f0-60bf-48fa-ae00-444a0c625bc5",
   "metadata": {},
   "outputs": [],
   "source": []
  }
 ],
 "metadata": {
  "kernelspec": {
   "display_name": "Python 3 (ipykernel)",
   "language": "python",
   "name": "python3"
  },
  "language_info": {
   "codemirror_mode": {
    "name": "ipython",
    "version": 3
   },
   "file_extension": ".py",
   "mimetype": "text/x-python",
   "name": "python",
   "nbconvert_exporter": "python",
   "pygments_lexer": "ipython3",
   "version": "3.12.7"
  }
 },
 "nbformat": 4,
 "nbformat_minor": 5
}
