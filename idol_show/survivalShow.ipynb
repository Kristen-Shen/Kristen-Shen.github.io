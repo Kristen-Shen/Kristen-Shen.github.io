{
 "cells": [
  {
   "cell_type": "markdown",
   "id": "3fb71dcd-3461-4632-951f-ac83da6d1552",
   "metadata": {},
   "source": [
    "## Analysis for Chinese Idol Survival Shows (4 seasons)\n",
    "### By Kristen Shen"
   ]
  },
  {
   "cell_type": "code",
   "execution_count": 7,
   "id": "b0aba956-50ac-417a-b5e7-7f5ed6148410",
   "metadata": {},
   "outputs": [],
   "source": [
    "import pandas as pd"
   ]
  },
  {
   "cell_type": "code",
   "execution_count": 8,
   "id": "7f51fd0c-ac0e-4188-95af-ef81a8c70f44",
   "metadata": {},
   "outputs": [
    {
     "data": {
      "text/html": [
       "<div>\n",
       "<style scoped>\n",
       "    .dataframe tbody tr th:only-of-type {\n",
       "        vertical-align: middle;\n",
       "    }\n",
       "\n",
       "    .dataframe tbody tr th {\n",
       "        vertical-align: top;\n",
       "    }\n",
       "\n",
       "    .dataframe thead th {\n",
       "        text-align: right;\n",
       "    }\n",
       "</style>\n",
       "<table border=\"1\" class=\"dataframe\">\n",
       "  <thead>\n",
       "    <tr style=\"text-align: right;\">\n",
       "      <th></th>\n",
       "      <th>Name</th>\n",
       "      <th>Votes</th>\n",
       "      <th>Company</th>\n",
       "    </tr>\n",
       "  </thead>\n",
       "  <tbody>\n",
       "    <tr>\n",
       "      <th>0</th>\n",
       "      <td>Liu Yu</td>\n",
       "      <td>25959880</td>\n",
       "      <td>Biubiu Culture</td>\n",
       "    </tr>\n",
       "    <tr>\n",
       "      <th>1</th>\n",
       "      <td>Santa</td>\n",
       "      <td>16611343</td>\n",
       "      <td>Avex</td>\n",
       "    </tr>\n",
       "    <tr>\n",
       "      <th>2</th>\n",
       "      <td>Rikimaru</td>\n",
       "      <td>16591943</td>\n",
       "      <td>Avex</td>\n",
       "    </tr>\n",
       "    <tr>\n",
       "      <th>3</th>\n",
       "      <td>Mika</td>\n",
       "      <td>16255569</td>\n",
       "      <td>Avex</td>\n",
       "    </tr>\n",
       "    <tr>\n",
       "      <th>4</th>\n",
       "      <td>Nine</td>\n",
       "      <td>13898339</td>\n",
       "      <td>Insight Entertainment</td>\n",
       "    </tr>\n",
       "    <tr>\n",
       "      <th>5</th>\n",
       "      <td>Lin Mo</td>\n",
       "      <td>13700082</td>\n",
       "      <td>Original Plan</td>\n",
       "    </tr>\n",
       "    <tr>\n",
       "      <th>6</th>\n",
       "      <td>Bo Yuan</td>\n",
       "      <td>13651294</td>\n",
       "      <td>White Media</td>\n",
       "    </tr>\n",
       "    <tr>\n",
       "      <th>7</th>\n",
       "      <td>Zhang Jiayuan</td>\n",
       "      <td>13612487</td>\n",
       "      <td>Wajijiwa Entertainment</td>\n",
       "    </tr>\n",
       "    <tr>\n",
       "      <th>8</th>\n",
       "      <td>Patrick</td>\n",
       "      <td>13359428</td>\n",
       "      <td>Insight Entertainment</td>\n",
       "    </tr>\n",
       "    <tr>\n",
       "      <th>9</th>\n",
       "      <td>Zhou Keyu</td>\n",
       "      <td>13279523</td>\n",
       "      <td>Jaywalk Newjoy</td>\n",
       "    </tr>\n",
       "  </tbody>\n",
       "</table>\n",
       "</div>"
      ],
      "text/plain": [
       "            Name     Votes                 Company\n",
       "0         Liu Yu  25959880         Biubiu Culture \n",
       "1          Santa  16611343                    Avex\n",
       "2       Rikimaru  16591943                    Avex\n",
       "3           Mika  16255569                    Avex\n",
       "4           Nine  13898339   Insight Entertainment\n",
       "5         Lin Mo  13700082           Original Plan\n",
       "6        Bo Yuan  13651294             White Media\n",
       "7  Zhang Jiayuan  13612487  Wajijiwa Entertainment\n",
       "8        Patrick  13359428   Insight Entertainment\n",
       "9      Zhou Keyu  13279523          Jaywalk Newjoy"
      ]
     },
     "execution_count": 8,
     "metadata": {},
     "output_type": "execute_result"
    }
   ],
   "source": [
    "df = pd.read_csv(\"IdolSurvivalShow.csv\")\n",
    "df.head(10)"
   ]
  },
  {
   "cell_type": "code",
   "execution_count": 10,
   "id": "140ab454-34be-439e-92b0-08c8873dc097",
   "metadata": {},
   "outputs": [
    {
     "data": {
      "text/plain": [
       "Company\n",
       "Wajijiwa Entertainment    6\n",
       "Avex                      3\n",
       "Yuehua                    2\n",
       "Insight Entertainment     2\n",
       "Original Plan             2\n",
       "White Media               2\n",
       "Jaywalk Newjoy            2\n",
       "Qigu Culture              1\n",
       "Wenlan Culture            1\n",
       "Long WuTian Culture       1\n",
       "JC7                       1\n",
       "Biubiu Culture            1\n",
       "Mavericks                 1\n",
       "K-L                       1\n",
       "SDT Entertainment         1\n",
       "Banana                    1\n",
       "ReDu Music                1\n",
       "JYP China                 1\n",
       "Pelias                    1\n",
       "Tai Du Yin Yue            1\n",
       "TF Entertainment          1\n",
       "Hot Idol                  1\n",
       "Huaying Entertainment     1\n",
       "TH Entertainment          1\n",
       "SNH48                     1\n",
       "The Voice of Dream        1\n",
       "W8VES                     1\n",
       "Babyou                    1\n",
       "Name: count, dtype: int64"
      ]
     },
     "execution_count": 10,
     "metadata": {},
     "output_type": "execute_result"
    }
   ],
   "source": [
    "df[\"Company\"].value_counts()"
   ]
  },
  {
   "cell_type": "code",
   "execution_count": 7,
   "id": "82bcc762-58d0-4391-a349-44bd02bf951c",
   "metadata": {},
   "outputs": [
    {
     "data": {
      "text/html": [
       "<div>\n",
       "<style scoped>\n",
       "    .dataframe tbody tr th:only-of-type {\n",
       "        vertical-align: middle;\n",
       "    }\n",
       "\n",
       "    .dataframe tbody tr th {\n",
       "        vertical-align: top;\n",
       "    }\n",
       "\n",
       "    .dataframe thead th {\n",
       "        text-align: right;\n",
       "    }\n",
       "</style>\n",
       "<table border=\"1\" class=\"dataframe\">\n",
       "  <thead>\n",
       "    <tr style=\"text-align: right;\">\n",
       "      <th></th>\n",
       "      <th>Name</th>\n",
       "      <th>Votes</th>\n",
       "      <th>Company</th>\n",
       "    </tr>\n",
       "  </thead>\n",
       "  <tbody>\n",
       "    <tr>\n",
       "      <th>7</th>\n",
       "      <td>Zhang Jiayuan</td>\n",
       "      <td>13612487</td>\n",
       "      <td>Wajijiwa Entertainment</td>\n",
       "    </tr>\n",
       "    <tr>\n",
       "      <th>18</th>\n",
       "      <td>Zhou Zhennan</td>\n",
       "      <td>37098540</td>\n",
       "      <td>Wajijiwa Entertainment</td>\n",
       "    </tr>\n",
       "    <tr>\n",
       "      <th>20</th>\n",
       "      <td>Yan Xu Jia</td>\n",
       "      <td>11164384</td>\n",
       "      <td>Wajijiwa Entertainment</td>\n",
       "    </tr>\n",
       "    <tr>\n",
       "      <th>21</th>\n",
       "      <td>Xia Zhi Guang</td>\n",
       "      <td>11107051</td>\n",
       "      <td>Wajijiwa Entertainment</td>\n",
       "    </tr>\n",
       "    <tr>\n",
       "      <th>23</th>\n",
       "      <td>Zhai Xiao Wen</td>\n",
       "      <td>10581322</td>\n",
       "      <td>Wajijiwa Entertainment</td>\n",
       "    </tr>\n",
       "    <tr>\n",
       "      <th>27</th>\n",
       "      <td>Zhao Lei</td>\n",
       "      <td>7503760</td>\n",
       "      <td>Wajijiwa Entertainment</td>\n",
       "    </tr>\n",
       "  </tbody>\n",
       "</table>\n",
       "</div>"
      ],
      "text/plain": [
       "             Name     Votes                 Company\n",
       "7   Zhang Jiayuan  13612487  Wajijiwa Entertainment\n",
       "18   Zhou Zhennan  37098540  Wajijiwa Entertainment\n",
       "20     Yan Xu Jia  11164384  Wajijiwa Entertainment\n",
       "21  Xia Zhi Guang  11107051  Wajijiwa Entertainment\n",
       "23  Zhai Xiao Wen  10581322  Wajijiwa Entertainment\n",
       "27       Zhao Lei   7503760  Wajijiwa Entertainment"
      ]
     },
     "execution_count": 7,
     "metadata": {},
     "output_type": "execute_result"
    }
   ],
   "source": [
    "df[df['Company'] == \"Wajijiwa Entertainment\"]"
   ]
  },
  {
   "cell_type": "code",
   "execution_count": 8,
   "id": "7b8a7d49-2cde-4254-a427-9b196fb100c3",
   "metadata": {},
   "outputs": [
    {
     "data": {
      "text/html": [
       "<div>\n",
       "<style scoped>\n",
       "    .dataframe tbody tr th:only-of-type {\n",
       "        vertical-align: middle;\n",
       "    }\n",
       "\n",
       "    .dataframe tbody tr th {\n",
       "        vertical-align: top;\n",
       "    }\n",
       "\n",
       "    .dataframe thead th {\n",
       "        text-align: right;\n",
       "    }\n",
       "</style>\n",
       "<table border=\"1\" class=\"dataframe\">\n",
       "  <thead>\n",
       "    <tr style=\"text-align: right;\">\n",
       "      <th></th>\n",
       "      <th>Name</th>\n",
       "      <th>Votes</th>\n",
       "      <th>Company</th>\n",
       "    </tr>\n",
       "  </thead>\n",
       "  <tbody>\n",
       "    <tr>\n",
       "      <th>1</th>\n",
       "      <td>Santa</td>\n",
       "      <td>16611343</td>\n",
       "      <td>Avex</td>\n",
       "    </tr>\n",
       "    <tr>\n",
       "      <th>2</th>\n",
       "      <td>Rikimaru</td>\n",
       "      <td>16591943</td>\n",
       "      <td>Avex</td>\n",
       "    </tr>\n",
       "    <tr>\n",
       "      <th>3</th>\n",
       "      <td>Mika</td>\n",
       "      <td>16255569</td>\n",
       "      <td>Avex</td>\n",
       "    </tr>\n",
       "  </tbody>\n",
       "</table>\n",
       "</div>"
      ],
      "text/plain": [
       "       Name     Votes Company\n",
       "1     Santa  16611343    Avex\n",
       "2  Rikimaru  16591943    Avex\n",
       "3      Mika  16255569    Avex"
      ]
     },
     "execution_count": 8,
     "metadata": {},
     "output_type": "execute_result"
    }
   ],
   "source": [
    "df[df['Company'] == \"Avex\"]"
   ]
  },
  {
   "cell_type": "code",
   "execution_count": 9,
   "id": "f80cf749-40bd-4a56-ad2b-957eeb958ba7",
   "metadata": {},
   "outputs": [
    {
     "data": {
      "text/html": [
       "<div>\n",
       "<style scoped>\n",
       "    .dataframe tbody tr th:only-of-type {\n",
       "        vertical-align: middle;\n",
       "    }\n",
       "\n",
       "    .dataframe tbody tr th {\n",
       "        vertical-align: top;\n",
       "    }\n",
       "\n",
       "    .dataframe thead th {\n",
       "        text-align: right;\n",
       "    }\n",
       "</style>\n",
       "<table border=\"1\" class=\"dataframe\">\n",
       "  <thead>\n",
       "    <tr style=\"text-align: right;\">\n",
       "      <th></th>\n",
       "      <th>Name</th>\n",
       "      <th>Votes</th>\n",
       "      <th>Company</th>\n",
       "    </tr>\n",
       "  </thead>\n",
       "  <tbody>\n",
       "    <tr>\n",
       "      <th>4</th>\n",
       "      <td>Nine</td>\n",
       "      <td>13898339</td>\n",
       "      <td>Insight Entertainment</td>\n",
       "    </tr>\n",
       "    <tr>\n",
       "      <th>8</th>\n",
       "      <td>Patrick</td>\n",
       "      <td>13359428</td>\n",
       "      <td>Insight Entertainment</td>\n",
       "    </tr>\n",
       "  </tbody>\n",
       "</table>\n",
       "</div>"
      ],
      "text/plain": [
       "      Name     Votes                Company\n",
       "4     Nine  13898339  Insight Entertainment\n",
       "8  Patrick  13359428  Insight Entertainment"
      ]
     },
     "execution_count": 9,
     "metadata": {},
     "output_type": "execute_result"
    }
   ],
   "source": [
    "df[df['Company'] == \"Insight Entertainment\"]"
   ]
  },
  {
   "cell_type": "code",
   "execution_count": 10,
   "id": "71d67df8-268a-472b-9e98-ab0faf37f3ff",
   "metadata": {},
   "outputs": [
    {
     "data": {
      "text/html": [
       "<div>\n",
       "<style scoped>\n",
       "    .dataframe tbody tr th:only-of-type {\n",
       "        vertical-align: middle;\n",
       "    }\n",
       "\n",
       "    .dataframe tbody tr th {\n",
       "        vertical-align: top;\n",
       "    }\n",
       "\n",
       "    .dataframe thead th {\n",
       "        text-align: right;\n",
       "    }\n",
       "</style>\n",
       "<table border=\"1\" class=\"dataframe\">\n",
       "  <thead>\n",
       "    <tr style=\"text-align: right;\">\n",
       "      <th></th>\n",
       "      <th>Name</th>\n",
       "      <th>Votes</th>\n",
       "      <th>Company</th>\n",
       "    </tr>\n",
       "  </thead>\n",
       "  <tbody>\n",
       "    <tr>\n",
       "      <th>9</th>\n",
       "      <td>Zhou Keyu</td>\n",
       "      <td>13279523</td>\n",
       "      <td>Jaywalk Newjoy</td>\n",
       "    </tr>\n",
       "    <tr>\n",
       "      <th>13</th>\n",
       "      <td>Wang Yijin</td>\n",
       "      <td>148000008</td>\n",
       "      <td>Jaywalk Newjoy</td>\n",
       "    </tr>\n",
       "  </tbody>\n",
       "</table>\n",
       "</div>"
      ],
      "text/plain": [
       "          Name      Votes         Company\n",
       "9    Zhou Keyu   13279523  Jaywalk Newjoy\n",
       "13  Wang Yijin  148000008  Jaywalk Newjoy"
      ]
     },
     "execution_count": 10,
     "metadata": {},
     "output_type": "execute_result"
    }
   ],
   "source": [
    "df[df['Company'] == \"Jaywalk Newjoy\"]"
   ]
  },
  {
   "cell_type": "code",
   "execution_count": 11,
   "id": "280a15a5-3726-410b-a50e-30fec6bd06ea",
   "metadata": {},
   "outputs": [
    {
     "data": {
      "text/html": [
       "<div>\n",
       "<style scoped>\n",
       "    .dataframe tbody tr th:only-of-type {\n",
       "        vertical-align: middle;\n",
       "    }\n",
       "\n",
       "    .dataframe tbody tr th {\n",
       "        vertical-align: top;\n",
       "    }\n",
       "\n",
       "    .dataframe thead th {\n",
       "        text-align: right;\n",
       "    }\n",
       "</style>\n",
       "<table border=\"1\" class=\"dataframe\">\n",
       "  <thead>\n",
       "    <tr style=\"text-align: right;\">\n",
       "      <th></th>\n",
       "      <th>Name</th>\n",
       "      <th>Votes</th>\n",
       "      <th>Company</th>\n",
       "    </tr>\n",
       "  </thead>\n",
       "  <tbody>\n",
       "    <tr>\n",
       "      <th>29</th>\n",
       "      <td>Meng Meiqi</td>\n",
       "      <td>185244357</td>\n",
       "      <td>Yuehua</td>\n",
       "    </tr>\n",
       "    <tr>\n",
       "      <th>30</th>\n",
       "      <td>Wu Xuanyi</td>\n",
       "      <td>181533349</td>\n",
       "      <td>Yuehua</td>\n",
       "    </tr>\n",
       "  </tbody>\n",
       "</table>\n",
       "</div>"
      ],
      "text/plain": [
       "          Name      Votes Company\n",
       "29  Meng Meiqi  185244357  Yuehua\n",
       "30   Wu Xuanyi  181533349  Yuehua"
      ]
     },
     "execution_count": 11,
     "metadata": {},
     "output_type": "execute_result"
    }
   ],
   "source": [
    "df[df['Company'] == \"Yuehua\"]"
   ]
  },
  {
   "cell_type": "code",
   "execution_count": 11,
   "id": "947fd292-bc00-4924-822c-7ef6c6de7298",
   "metadata": {},
   "outputs": [
    {
     "data": {
      "text/html": [
       "<div>\n",
       "<style scoped>\n",
       "    .dataframe tbody tr th:only-of-type {\n",
       "        vertical-align: middle;\n",
       "    }\n",
       "\n",
       "    .dataframe tbody tr th {\n",
       "        vertical-align: top;\n",
       "    }\n",
       "\n",
       "    .dataframe thead th {\n",
       "        text-align: right;\n",
       "    }\n",
       "</style>\n",
       "<table border=\"1\" class=\"dataframe\">\n",
       "  <thead>\n",
       "    <tr style=\"text-align: right;\">\n",
       "      <th></th>\n",
       "      <th>Name</th>\n",
       "      <th>Votes</th>\n",
       "      <th>Company</th>\n",
       "    </tr>\n",
       "  </thead>\n",
       "  <tbody>\n",
       "    <tr>\n",
       "      <th>5</th>\n",
       "      <td>Lin Mo</td>\n",
       "      <td>13700082</td>\n",
       "      <td>Original Plan</td>\n",
       "    </tr>\n",
       "    <tr>\n",
       "      <th>19</th>\n",
       "      <td>He Luo Luo</td>\n",
       "      <td>13652312</td>\n",
       "      <td>Original Plan</td>\n",
       "    </tr>\n",
       "  </tbody>\n",
       "</table>\n",
       "</div>"
      ],
      "text/plain": [
       "          Name     Votes        Company\n",
       "5       Lin Mo  13700082  Original Plan\n",
       "19  He Luo Luo  13652312  Original Plan"
      ]
     },
     "execution_count": 11,
     "metadata": {},
     "output_type": "execute_result"
    }
   ],
   "source": [
    "df[df['Company'] == \"Original Plan\"]"
   ]
  },
  {
   "cell_type": "code",
   "execution_count": 12,
   "id": "eaf7f2f4-10dd-4167-b710-266ae913efb3",
   "metadata": {},
   "outputs": [
    {
     "data": {
      "text/html": [
       "<div>\n",
       "<style scoped>\n",
       "    .dataframe tbody tr th:only-of-type {\n",
       "        vertical-align: middle;\n",
       "    }\n",
       "\n",
       "    .dataframe tbody tr th {\n",
       "        vertical-align: top;\n",
       "    }\n",
       "\n",
       "    .dataframe thead th {\n",
       "        text-align: right;\n",
       "    }\n",
       "</style>\n",
       "<table border=\"1\" class=\"dataframe\">\n",
       "  <thead>\n",
       "    <tr style=\"text-align: right;\">\n",
       "      <th></th>\n",
       "      <th>Name</th>\n",
       "      <th>Votes</th>\n",
       "      <th>Company</th>\n",
       "    </tr>\n",
       "  </thead>\n",
       "  <tbody>\n",
       "    <tr>\n",
       "      <th>6</th>\n",
       "      <td>Bo Yuan</td>\n",
       "      <td>13651294</td>\n",
       "      <td>White Media</td>\n",
       "    </tr>\n",
       "    <tr>\n",
       "      <th>26</th>\n",
       "      <td>Ren Hao</td>\n",
       "      <td>7511752</td>\n",
       "      <td>White Media</td>\n",
       "    </tr>\n",
       "  </tbody>\n",
       "</table>\n",
       "</div>"
      ],
      "text/plain": [
       "       Name     Votes      Company\n",
       "6   Bo Yuan  13651294  White Media\n",
       "26  Ren Hao   7511752  White Media"
      ]
     },
     "execution_count": 12,
     "metadata": {},
     "output_type": "execute_result"
    }
   ],
   "source": [
    "df[df['Company'] == \"White Media\"]"
   ]
  },
  {
   "cell_type": "code",
   "execution_count": null,
   "id": "14f7d25a-840b-4341-840f-c630f1eb5f09",
   "metadata": {},
   "outputs": [],
   "source": []
  }
 ],
 "metadata": {
  "kernelspec": {
   "display_name": "Python 3 (ipykernel)",
   "language": "python",
   "name": "python3"
  },
  "language_info": {
   "codemirror_mode": {
    "name": "ipython",
    "version": 3
   },
   "file_extension": ".py",
   "mimetype": "text/x-python",
   "name": "python",
   "nbconvert_exporter": "python",
   "pygments_lexer": "ipython3",
   "version": "3.12.7"
  }
 },
 "nbformat": 4,
 "nbformat_minor": 5
}
